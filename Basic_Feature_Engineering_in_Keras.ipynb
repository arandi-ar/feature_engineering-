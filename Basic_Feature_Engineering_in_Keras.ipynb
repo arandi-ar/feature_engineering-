{
  "nbformat": 4,
  "nbformat_minor": 0,
  "metadata": {
    "colab": {
      "name": "Basic Feature Engineering in Keras.ipynb",
      "provenance": [],
      "authorship_tag": "ABX9TyNS0gi2OgANOhAiaS72O6Ya",
      "include_colab_link": true
    },
    "kernelspec": {
      "name": "python3",
      "display_name": "Python 3"
    },
    "language_info": {
      "name": "python"
    }
  },
  "cells": [
    {
      "cell_type": "markdown",
      "metadata": {
        "id": "view-in-github",
        "colab_type": "text"
      },
      "source": [
        "<a href=\"https://colab.research.google.com/github/arandi-ar/feature_engineering-/blob/main/Basic_Feature_Engineering_in_Keras.ipynb\" target=\"_parent\"><img src=\"https://colab.research.google.com/assets/colab-badge.svg\" alt=\"Open In Colab\"/></a>"
      ]
    },
    {
      "cell_type": "code",
      "metadata": {
        "colab": {
          "base_uri": "https://localhost:8080/"
        },
        "id": "LLmOqNbK2FXC",
        "outputId": "c39862e7-a755-4f2f-dd6f-ad28c74dce20"
      },
      "source": [
        "pip install sklearn"
      ],
      "execution_count": 14,
      "outputs": [
        {
          "output_type": "stream",
          "name": "stdout",
          "text": [
            "Requirement already satisfied: sklearn in /usr/local/lib/python3.7/dist-packages (0.0)\n",
            "Requirement already satisfied: scikit-learn in /usr/local/lib/python3.7/dist-packages (from sklearn) (0.22.2.post1)\n",
            "Requirement already satisfied: numpy>=1.11.0 in /usr/local/lib/python3.7/dist-packages (from scikit-learn->sklearn) (1.19.5)\n",
            "Requirement already satisfied: scipy>=0.17.0 in /usr/local/lib/python3.7/dist-packages (from scikit-learn->sklearn) (1.4.1)\n",
            "Requirement already satisfied: joblib>=0.11 in /usr/local/lib/python3.7/dist-packages (from scikit-learn->sklearn) (1.0.1)\n"
          ]
        }
      ]
    },
    {
      "cell_type": "code",
      "metadata": {
        "colab": {
          "base_uri": "https://localhost:8080/"
        },
        "id": "9c0L4Xbo3IJh",
        "outputId": "ae254c65-9d79-4f5b-b0b2-8f0872a177e4"
      },
      "source": [
        "!wget https://raw.githubusercontent.com/gstripling/training-data-analyst/master/housing_pre-proc.csv"
      ],
      "execution_count": 15,
      "outputs": [
        {
          "output_type": "stream",
          "name": "stdout",
          "text": [
            "--2021-10-27 13:30:24--  https://raw.githubusercontent.com/gstripling/training-data-analyst/master/housing_pre-proc.csv\n",
            "Resolving raw.githubusercontent.com (raw.githubusercontent.com)... 185.199.109.133, 185.199.111.133, 185.199.110.133, ...\n",
            "Connecting to raw.githubusercontent.com (raw.githubusercontent.com)|185.199.109.133|:443... connected.\n",
            "HTTP request sent, awaiting response... 200 OK\n",
            "Length: 1435069 (1.4M) [text/plain]\n",
            "Saving to: ‘housing_pre-proc.csv.1’\n",
            "\n",
            "\rhousing_pre-proc.cs   0%[                    ]       0  --.-KB/s               \rhousing_pre-proc.cs 100%[===================>]   1.37M  --.-KB/s    in 0.03s   \n",
            "\n",
            "2021-10-27 13:30:25 (42.6 MB/s) - ‘housing_pre-proc.csv.1’ saved [1435069/1435069]\n",
            "\n"
          ]
        }
      ]
    },
    {
      "cell_type": "code",
      "metadata": {
        "colab": {
          "base_uri": "https://localhost:8080/"
        },
        "id": "Jkx6jqEY1iND",
        "outputId": "85d381e3-79c4-41f6-aac5-267c2f1a6e17"
      },
      "source": [
        "import os\n",
        "import tensorflow.keras\n",
        "\n",
        "import matplotlib.pyplot as plt\n",
        "import pandas as pd\n",
        "import tensorflow as tf\n",
        "\n",
        "from tensorflow import feature_column as fc\n",
        "from tensorflow.keras import layers\n",
        "from sklearn.model_selection import train_test_split\n",
        "\n",
        "print(tf.version.VERSION)"
      ],
      "execution_count": 16,
      "outputs": [
        {
          "output_type": "stream",
          "name": "stdout",
          "text": [
            "2.6.0\n"
          ]
        }
      ]
    },
    {
      "cell_type": "code",
      "metadata": {
        "colab": {
          "base_uri": "https://localhost:8080/",
          "height": 204
        },
        "id": "sQjHDgEY3RXl",
        "outputId": "9d0f47a7-cb6a-446d-a04d-41ecfe18e1df"
      },
      "source": [
        "housing_df = pd.read_csv('housing_pre-proc.csv', error_bad_lines=False)\n",
        "housing_df.head()"
      ],
      "execution_count": 17,
      "outputs": [
        {
          "output_type": "execute_result",
          "data": {
            "text/html": [
              "<div>\n",
              "<style scoped>\n",
              "    .dataframe tbody tr th:only-of-type {\n",
              "        vertical-align: middle;\n",
              "    }\n",
              "\n",
              "    .dataframe tbody tr th {\n",
              "        vertical-align: top;\n",
              "    }\n",
              "\n",
              "    .dataframe thead th {\n",
              "        text-align: right;\n",
              "    }\n",
              "</style>\n",
              "<table border=\"1\" class=\"dataframe\">\n",
              "  <thead>\n",
              "    <tr style=\"text-align: right;\">\n",
              "      <th></th>\n",
              "      <th>longitude</th>\n",
              "      <th>latitude</th>\n",
              "      <th>housing_median_age</th>\n",
              "      <th>total_rooms</th>\n",
              "      <th>total_bedrooms</th>\n",
              "      <th>population</th>\n",
              "      <th>households</th>\n",
              "      <th>median_income</th>\n",
              "      <th>median_house_value</th>\n",
              "      <th>ocean_proximity</th>\n",
              "    </tr>\n",
              "  </thead>\n",
              "  <tbody>\n",
              "    <tr>\n",
              "      <th>0</th>\n",
              "      <td>-122.23</td>\n",
              "      <td>37.88</td>\n",
              "      <td>41.0</td>\n",
              "      <td>880.0</td>\n",
              "      <td>129.0</td>\n",
              "      <td>322.0</td>\n",
              "      <td>126.0</td>\n",
              "      <td>8.3252</td>\n",
              "      <td>452600.0</td>\n",
              "      <td>NEAR BAY</td>\n",
              "    </tr>\n",
              "    <tr>\n",
              "      <th>1</th>\n",
              "      <td>-122.22</td>\n",
              "      <td>37.86</td>\n",
              "      <td>21.0</td>\n",
              "      <td>7099.0</td>\n",
              "      <td>1106.0</td>\n",
              "      <td>2401.0</td>\n",
              "      <td>1138.0</td>\n",
              "      <td>8.3014</td>\n",
              "      <td>358500.0</td>\n",
              "      <td>NEAR BAY</td>\n",
              "    </tr>\n",
              "    <tr>\n",
              "      <th>2</th>\n",
              "      <td>-122.24</td>\n",
              "      <td>37.85</td>\n",
              "      <td>52.0</td>\n",
              "      <td>1467.0</td>\n",
              "      <td>190.0</td>\n",
              "      <td>496.0</td>\n",
              "      <td>177.0</td>\n",
              "      <td>7.2574</td>\n",
              "      <td>352100.0</td>\n",
              "      <td>NEAR BAY</td>\n",
              "    </tr>\n",
              "    <tr>\n",
              "      <th>3</th>\n",
              "      <td>-122.25</td>\n",
              "      <td>37.85</td>\n",
              "      <td>52.0</td>\n",
              "      <td>1274.0</td>\n",
              "      <td>235.0</td>\n",
              "      <td>558.0</td>\n",
              "      <td>219.0</td>\n",
              "      <td>5.6431</td>\n",
              "      <td>341300.0</td>\n",
              "      <td>NEAR BAY</td>\n",
              "    </tr>\n",
              "    <tr>\n",
              "      <th>4</th>\n",
              "      <td>-122.25</td>\n",
              "      <td>37.85</td>\n",
              "      <td>52.0</td>\n",
              "      <td>1627.0</td>\n",
              "      <td>280.0</td>\n",
              "      <td>565.0</td>\n",
              "      <td>259.0</td>\n",
              "      <td>3.8462</td>\n",
              "      <td>342200.0</td>\n",
              "      <td>NEAR BAY</td>\n",
              "    </tr>\n",
              "  </tbody>\n",
              "</table>\n",
              "</div>"
            ],
            "text/plain": [
              "   longitude  latitude  ...  median_house_value  ocean_proximity\n",
              "0    -122.23     37.88  ...            452600.0         NEAR BAY\n",
              "1    -122.22     37.86  ...            358500.0         NEAR BAY\n",
              "2    -122.24     37.85  ...            352100.0         NEAR BAY\n",
              "3    -122.25     37.85  ...            341300.0         NEAR BAY\n",
              "4    -122.25     37.85  ...            342200.0         NEAR BAY\n",
              "\n",
              "[5 rows x 10 columns]"
            ]
          },
          "metadata": {},
          "execution_count": 17
        }
      ]
    },
    {
      "cell_type": "code",
      "metadata": {
        "colab": {
          "base_uri": "https://localhost:8080/",
          "height": 297
        },
        "id": "AFbXczzU3irI",
        "outputId": "c366a316-82fe-4c03-ab24-acf12252a551"
      },
      "source": [
        "housing_df.describe()"
      ],
      "execution_count": 18,
      "outputs": [
        {
          "output_type": "execute_result",
          "data": {
            "text/html": [
              "<div>\n",
              "<style scoped>\n",
              "    .dataframe tbody tr th:only-of-type {\n",
              "        vertical-align: middle;\n",
              "    }\n",
              "\n",
              "    .dataframe tbody tr th {\n",
              "        vertical-align: top;\n",
              "    }\n",
              "\n",
              "    .dataframe thead th {\n",
              "        text-align: right;\n",
              "    }\n",
              "</style>\n",
              "<table border=\"1\" class=\"dataframe\">\n",
              "  <thead>\n",
              "    <tr style=\"text-align: right;\">\n",
              "      <th></th>\n",
              "      <th>longitude</th>\n",
              "      <th>latitude</th>\n",
              "      <th>housing_median_age</th>\n",
              "      <th>total_rooms</th>\n",
              "      <th>total_bedrooms</th>\n",
              "      <th>population</th>\n",
              "      <th>households</th>\n",
              "      <th>median_income</th>\n",
              "      <th>median_house_value</th>\n",
              "    </tr>\n",
              "  </thead>\n",
              "  <tbody>\n",
              "    <tr>\n",
              "      <th>count</th>\n",
              "      <td>20433.000000</td>\n",
              "      <td>20433.000000</td>\n",
              "      <td>20433.000000</td>\n",
              "      <td>20433.000000</td>\n",
              "      <td>20433.000000</td>\n",
              "      <td>20433.000000</td>\n",
              "      <td>20433.000000</td>\n",
              "      <td>20433.000000</td>\n",
              "      <td>20433.000000</td>\n",
              "    </tr>\n",
              "    <tr>\n",
              "      <th>mean</th>\n",
              "      <td>-119.570689</td>\n",
              "      <td>35.633221</td>\n",
              "      <td>28.633094</td>\n",
              "      <td>2636.504233</td>\n",
              "      <td>537.870553</td>\n",
              "      <td>1424.946949</td>\n",
              "      <td>499.433465</td>\n",
              "      <td>3.871162</td>\n",
              "      <td>206864.413155</td>\n",
              "    </tr>\n",
              "    <tr>\n",
              "      <th>std</th>\n",
              "      <td>2.003578</td>\n",
              "      <td>2.136348</td>\n",
              "      <td>12.591805</td>\n",
              "      <td>2185.269567</td>\n",
              "      <td>421.385070</td>\n",
              "      <td>1133.208490</td>\n",
              "      <td>382.299226</td>\n",
              "      <td>1.899291</td>\n",
              "      <td>115435.667099</td>\n",
              "    </tr>\n",
              "    <tr>\n",
              "      <th>min</th>\n",
              "      <td>-124.350000</td>\n",
              "      <td>32.540000</td>\n",
              "      <td>1.000000</td>\n",
              "      <td>2.000000</td>\n",
              "      <td>1.000000</td>\n",
              "      <td>3.000000</td>\n",
              "      <td>1.000000</td>\n",
              "      <td>0.499900</td>\n",
              "      <td>14999.000000</td>\n",
              "    </tr>\n",
              "    <tr>\n",
              "      <th>25%</th>\n",
              "      <td>-121.800000</td>\n",
              "      <td>33.930000</td>\n",
              "      <td>18.000000</td>\n",
              "      <td>1450.000000</td>\n",
              "      <td>296.000000</td>\n",
              "      <td>787.000000</td>\n",
              "      <td>280.000000</td>\n",
              "      <td>2.563700</td>\n",
              "      <td>119500.000000</td>\n",
              "    </tr>\n",
              "    <tr>\n",
              "      <th>50%</th>\n",
              "      <td>-118.490000</td>\n",
              "      <td>34.260000</td>\n",
              "      <td>29.000000</td>\n",
              "      <td>2127.000000</td>\n",
              "      <td>435.000000</td>\n",
              "      <td>1166.000000</td>\n",
              "      <td>409.000000</td>\n",
              "      <td>3.536500</td>\n",
              "      <td>179700.000000</td>\n",
              "    </tr>\n",
              "    <tr>\n",
              "      <th>75%</th>\n",
              "      <td>-118.010000</td>\n",
              "      <td>37.720000</td>\n",
              "      <td>37.000000</td>\n",
              "      <td>3143.000000</td>\n",
              "      <td>647.000000</td>\n",
              "      <td>1722.000000</td>\n",
              "      <td>604.000000</td>\n",
              "      <td>4.744000</td>\n",
              "      <td>264700.000000</td>\n",
              "    </tr>\n",
              "    <tr>\n",
              "      <th>max</th>\n",
              "      <td>-114.310000</td>\n",
              "      <td>41.950000</td>\n",
              "      <td>52.000000</td>\n",
              "      <td>39320.000000</td>\n",
              "      <td>6445.000000</td>\n",
              "      <td>35682.000000</td>\n",
              "      <td>6082.000000</td>\n",
              "      <td>15.000100</td>\n",
              "      <td>500001.000000</td>\n",
              "    </tr>\n",
              "  </tbody>\n",
              "</table>\n",
              "</div>"
            ],
            "text/plain": [
              "          longitude      latitude  ...  median_income  median_house_value\n",
              "count  20433.000000  20433.000000  ...   20433.000000        20433.000000\n",
              "mean    -119.570689     35.633221  ...       3.871162       206864.413155\n",
              "std        2.003578      2.136348  ...       1.899291       115435.667099\n",
              "min     -124.350000     32.540000  ...       0.499900        14999.000000\n",
              "25%     -121.800000     33.930000  ...       2.563700       119500.000000\n",
              "50%     -118.490000     34.260000  ...       3.536500       179700.000000\n",
              "75%     -118.010000     37.720000  ...       4.744000       264700.000000\n",
              "max     -114.310000     41.950000  ...      15.000100       500001.000000\n",
              "\n",
              "[8 rows x 9 columns]"
            ]
          },
          "metadata": {},
          "execution_count": 18
        }
      ]
    },
    {
      "cell_type": "markdown",
      "metadata": {
        "id": "x-y8r55Y3n6L"
      },
      "source": [
        "# Partiendo el dataset para ML\n",
        "Tenemos que partirlo el CSV en train, validation y test"
      ]
    },
    {
      "cell_type": "code",
      "metadata": {
        "id": "AhsdZCM-335E"
      },
      "source": [
        "train, test = train_test_split(housing_df, test_size=0.2)\n",
        "train, val = train_test_split(housing_df, test_size=0.2)"
      ],
      "execution_count": 19,
      "outputs": []
    },
    {
      "cell_type": "markdown",
      "metadata": {
        "id": "0B26dCqX4Kix"
      },
      "source": [
        "Vamos a guardarlos en archivos diferentes"
      ]
    },
    {
      "cell_type": "code",
      "metadata": {
        "id": "8nP75ihA4EZg"
      },
      "source": [
        "train.to_csv('housing-train.csv', encoding='utf-8', index=False)\n",
        "val.to_csv('housing-val.csv', encoding='utf-8', index=False)\n",
        "test.to_csv('housing-test.csv', encoding='utf-8', index=False)"
      ],
      "execution_count": 20,
      "outputs": []
    },
    {
      "cell_type": "code",
      "metadata": {
        "colab": {
          "base_uri": "https://localhost:8080/"
        },
        "id": "-KZKhQeq4lSl",
        "outputId": "87ac1394-fbfe-44e4-8aa4-0ee769e11d54"
      },
      "source": [
        "!ls -la"
      ],
      "execution_count": 21,
      "outputs": [
        {
          "output_type": "stream",
          "name": "stdout",
          "text": [
            "total 4488\n",
            "drwxr-xr-x 1 root root    4096 Oct 27 13:30 .\n",
            "drwxr-xr-x 1 root root    4096 Oct 27 13:11 ..\n",
            "drwxr-xr-x 4 root root    4096 Oct  8 13:44 .config\n",
            "-rw-r--r-- 1 root root 1435069 Oct 27 13:24 housing_pre-proc.csv\n",
            "-rw-r--r-- 1 root root 1435069 Oct 27 13:30 housing_pre-proc.csv.1\n",
            "-rw-r--r-- 1 root root  282691 Oct 27 13:30 housing-test.csv\n",
            "-rw-r--r-- 1 root root 1129748 Oct 27 13:30 housing-train.csv\n",
            "-rw-r--r-- 1 root root  282800 Oct 27 13:30 housing-val.csv\n",
            "drwxr-xr-x 1 root root    4096 Oct  8 13:45 sample_data\n"
          ]
        }
      ]
    },
    {
      "cell_type": "markdown",
      "metadata": {
        "id": "0feUfcZr4qRv"
      },
      "source": [
        "# Lab1: crear un input pipeline usando tf.data\n",
        "\n",
        "A continuacion vamos a encapsular el dataframe con tf.data. Esto nos va a permitir usar feature columns como un puente para mapear las columnas en el dataframe de pandas con los features usados para entrenar el modelo"
      ]
    },
    {
      "cell_type": "code",
      "metadata": {
        "id": "Zehs7cqg5G1B"
      },
      "source": [
        "def df_to_dataset(dataframe, shuffle=True, batch_size=32):\n",
        "  dataframe = dataframe.copy()\n",
        "  labels = dataframe.pop('median_house_value')\n",
        "  ds = tf.data.Dataset.from_tensor_slices((dict(dataframe), labels))\n",
        "  if shuffle:\n",
        "    ds = ds.shuffle(buffer_size=len(dataframe))\n",
        "  ds = ds.batch(batch_size)\n",
        "  return ds"
      ],
      "execution_count": 22,
      "outputs": []
    },
    {
      "cell_type": "markdown",
      "metadata": {
        "id": "slibwDOZ58ta"
      },
      "source": [
        "A continuacipon inicializamos los dataset de entrenamiento y validacion"
      ]
    },
    {
      "cell_type": "code",
      "metadata": {
        "id": "4ZLzT0xl5p74"
      },
      "source": [
        "batch_size = 32\n",
        "train_ds = df_to_dataset(train)\n",
        "val_ds = df_to_dataset(val, shuffle=False, batch_size=batch_size)"
      ],
      "execution_count": 23,
      "outputs": []
    },
    {
      "cell_type": "code",
      "metadata": {
        "colab": {
          "base_uri": "https://localhost:8080/"
        },
        "id": "35KTY19a5oTS",
        "outputId": "afa89689-3e79-4c22-b4ca-f0099b7d3fd7"
      },
      "source": [
        "# vamos a ver que nos trae\n",
        "\n",
        "for feature_batch, label_batch in train_ds.take(1):\n",
        "  print('todas las features', list(feature_batch.keys()))\n",
        "  print('Un batch de households', feature_batch['households'])\n",
        "  print('Un batch de ocean_proximity', feature_batch['ocean_proximity'])\n",
        "  print('A batch of targets', label_batch)"
      ],
      "execution_count": 24,
      "outputs": [
        {
          "output_type": "stream",
          "name": "stdout",
          "text": [
            "todas las features ['longitude', 'latitude', 'housing_median_age', 'total_rooms', 'total_bedrooms', 'population', 'households', 'median_income', 'ocean_proximity']\n",
            "Un batch de households tf.Tensor(\n",
            "[ 659. 1067.  162.  515.   70.  705.  237.  463.  150.  574.  664. 1333.\n",
            "  295.  409.  447.  131.  519.  446.   66.  706.  301.  356.  596.  766.\n",
            "  202. 3510.  338.  505.  454.  667.  209.  254.], shape=(32,), dtype=float64)\n",
            "Un batch de ocean_proximity tf.Tensor(\n",
            "[b'<1H OCEAN' b'INLAND' b'<1H OCEAN' b'INLAND' b'NEAR BAY' b'INLAND'\n",
            " b'<1H OCEAN' b'INLAND' b'INLAND' b'NEAR BAY' b'NEAR OCEAN' b'<1H OCEAN'\n",
            " b'<1H OCEAN' b'<1H OCEAN' b'INLAND' b'INLAND' b'NEAR BAY' b'<1H OCEAN'\n",
            " b'INLAND' b'<1H OCEAN' b'NEAR BAY' b'INLAND' b'NEAR BAY' b'INLAND'\n",
            " b'<1H OCEAN' b'<1H OCEAN' b'<1H OCEAN' b'INLAND' b'<1H OCEAN' b'INLAND'\n",
            " b'INLAND' b'INLAND'], shape=(32,), dtype=string)\n",
            "A batch of targets tf.Tensor(\n",
            "[137500. 200200. 103100. 132300. 335000. 165100. 365200. 110900. 103100.\n",
            " 425500. 142900. 190400.  77200. 139300.  44400. 181300. 205500. 228400.\n",
            "  73800. 350000. 312300.  93400. 266700. 141300. 187500. 198500. 295800.\n",
            " 130600. 142200. 142200. 195800.  94200.], shape=(32,), dtype=float64)\n"
          ]
        }
      ]
    },
    {
      "cell_type": "markdown",
      "metadata": {
        "id": "sOc3y0ST9uMC"
      },
      "source": [
        "## Columnas numericas\n",
        "La salida de una feature column se convierte en la entrada del modelo"
      ]
    },
    {
      "cell_type": "code",
      "metadata": {
        "id": "cfktHo3H_lj4"
      },
      "source": [
        "numeric_cols = ['longitude', 'latitude', 'housing_median_age', 'total_rooms',\n",
        "                'total_bedrooms', 'population', 'households', 'median_income']"
      ],
      "execution_count": 25,
      "outputs": []
    },
    {
      "cell_type": "markdown",
      "metadata": {
        "id": "ag6L7rK__qPH"
      },
      "source": [
        "## Scaler function\n",
        "Es muy importante que todas las variables numericas este normalizadas antes de subirla"
      ]
    },
    {
      "cell_type": "code",
      "metadata": {
        "id": "9KRZns0q6aXm"
      },
      "source": [
        "def get_scal(feature):\n",
        "  def minmax(x):\n",
        "    mini = train[feature].min()\n",
        "    maxi = train[feature].max()\n",
        "    return (x - mini)/(maxi-mini)\n",
        "    return(minmax)"
      ],
      "execution_count": 26,
      "outputs": []
    },
    {
      "cell_type": "code",
      "metadata": {
        "id": "nS8_owFw6tdC"
      },
      "source": [
        "feature_columns = []\n",
        "for header in numeric_cols:\n",
        "  scal_input_fn = get_scal(header)\n",
        "  feature_columns.append(fc.numeric_column(header,\n",
        "                                         normalizer_fn=scal_input_fn))"
      ],
      "execution_count": 29,
      "outputs": []
    },
    {
      "cell_type": "code",
      "metadata": {
        "id": "01yc77He7Bpt",
        "colab": {
          "base_uri": "https://localhost:8080/"
        },
        "outputId": "c6c2a936-e368-437c-a6d4-a560ea107947"
      },
      "source": [
        "print('Total number of feature columns: ', len(feature_columns))"
      ],
      "execution_count": 30,
      "outputs": [
        {
          "output_type": "stream",
          "name": "stdout",
          "text": [
            "Total number of feature columns:  8\n"
          ]
        }
      ]
    },
    {
      "cell_type": "markdown",
      "metadata": {
        "id": "VVr7KQea841v"
      },
      "source": [
        "## Usando keras modelos secuencial"
      ]
    },
    {
      "cell_type": "code",
      "metadata": {
        "colab": {
          "base_uri": "https://localhost:8080/"
        },
        "id": "LAnIEo6d88z_",
        "outputId": "15c2d24b-9b43-4278-bfdd-18d74f76e66b"
      },
      "source": [
        "feature_layer = tf.keras.layers.DenseFeatures(feature_columns, dtype='float64')\n",
        "\n",
        "model = tf.keras.Sequential([\n",
        "  feature_layer,\n",
        "  layers.Dense(12, input_dim=8, activation='relu'),\n",
        "  layers.Dense(8, activation='relu'),\n",
        "  layers.Dense(1, activation='linear', name='median_house_value')\n",
        "])\n",
        "\n",
        "model.compile(optimizer='adam',\n",
        "              loss='mse',\n",
        "              metrics=['mse'])\n",
        "\n",
        "history = model.fit(train_ds,\n",
        "                    validation_data=val_ds,\n",
        "                    epochs=32)"
      ],
      "execution_count": 34,
      "outputs": [
        {
          "output_type": "stream",
          "name": "stdout",
          "text": [
            "Epoch 1/32\n",
            "WARNING:tensorflow:Layers in a Sequential model should only have a single input tensor, but we receive a <class 'dict'> input: {'longitude': <tf.Tensor 'ExpandDims_3:0' shape=(None, 1) dtype=float64>, 'latitude': <tf.Tensor 'ExpandDims_2:0' shape=(None, 1) dtype=float64>, 'housing_median_age': <tf.Tensor 'ExpandDims_1:0' shape=(None, 1) dtype=float64>, 'total_rooms': <tf.Tensor 'ExpandDims_8:0' shape=(None, 1) dtype=float64>, 'total_bedrooms': <tf.Tensor 'ExpandDims_7:0' shape=(None, 1) dtype=float64>, 'population': <tf.Tensor 'ExpandDims_6:0' shape=(None, 1) dtype=float64>, 'households': <tf.Tensor 'ExpandDims:0' shape=(None, 1) dtype=float64>, 'median_income': <tf.Tensor 'ExpandDims_4:0' shape=(None, 1) dtype=float64>, 'ocean_proximity': <tf.Tensor 'ExpandDims_5:0' shape=(None, 1) dtype=string>}\n",
            "Consider rewriting this model with the Functional API.\n",
            "WARNING:tensorflow:Layers in a Sequential model should only have a single input tensor, but we receive a <class 'dict'> input: {'longitude': <tf.Tensor 'ExpandDims_3:0' shape=(None, 1) dtype=float64>, 'latitude': <tf.Tensor 'ExpandDims_2:0' shape=(None, 1) dtype=float64>, 'housing_median_age': <tf.Tensor 'ExpandDims_1:0' shape=(None, 1) dtype=float64>, 'total_rooms': <tf.Tensor 'ExpandDims_8:0' shape=(None, 1) dtype=float64>, 'total_bedrooms': <tf.Tensor 'ExpandDims_7:0' shape=(None, 1) dtype=float64>, 'population': <tf.Tensor 'ExpandDims_6:0' shape=(None, 1) dtype=float64>, 'households': <tf.Tensor 'ExpandDims:0' shape=(None, 1) dtype=float64>, 'median_income': <tf.Tensor 'ExpandDims_4:0' shape=(None, 1) dtype=float64>, 'ocean_proximity': <tf.Tensor 'ExpandDims_5:0' shape=(None, 1) dtype=string>}\n",
            "Consider rewriting this model with the Functional API.\n",
            "487/511 [===========================>..] - ETA: 0s - loss: 48820461568.0000 - mse: 48820461568.0000WARNING:tensorflow:Layers in a Sequential model should only have a single input tensor, but we receive a <class 'dict'> input: {'longitude': <tf.Tensor 'ExpandDims_3:0' shape=(None, 1) dtype=float64>, 'latitude': <tf.Tensor 'ExpandDims_2:0' shape=(None, 1) dtype=float64>, 'housing_median_age': <tf.Tensor 'ExpandDims_1:0' shape=(None, 1) dtype=float64>, 'total_rooms': <tf.Tensor 'ExpandDims_8:0' shape=(None, 1) dtype=float64>, 'total_bedrooms': <tf.Tensor 'ExpandDims_7:0' shape=(None, 1) dtype=float64>, 'population': <tf.Tensor 'ExpandDims_6:0' shape=(None, 1) dtype=float64>, 'households': <tf.Tensor 'ExpandDims:0' shape=(None, 1) dtype=float64>, 'median_income': <tf.Tensor 'ExpandDims_4:0' shape=(None, 1) dtype=float64>, 'ocean_proximity': <tf.Tensor 'ExpandDims_5:0' shape=(None, 1) dtype=string>}\n",
            "Consider rewriting this model with the Functional API.\n",
            "511/511 [==============================] - 2s 2ms/step - loss: 47956619264.0000 - mse: 47956619264.0000 - val_loss: 32035246080.0000 - val_mse: 32035246080.0000\n",
            "Epoch 2/32\n",
            "511/511 [==============================] - 1s 2ms/step - loss: 26814976000.0000 - mse: 26814976000.0000 - val_loss: 27177660416.0000 - val_mse: 27177660416.0000\n",
            "Epoch 3/32\n",
            "511/511 [==============================] - 1s 3ms/step - loss: 25895282688.0000 - mse: 25895282688.0000 - val_loss: 26490611712.0000 - val_mse: 26490611712.0000\n",
            "Epoch 4/32\n",
            "511/511 [==============================] - 1s 2ms/step - loss: 25305239552.0000 - mse: 25305239552.0000 - val_loss: 25963935744.0000 - val_mse: 25963935744.0000\n",
            "Epoch 5/32\n",
            "511/511 [==============================] - 1s 2ms/step - loss: 24644927488.0000 - mse: 24644927488.0000 - val_loss: 25356183552.0000 - val_mse: 25356183552.0000\n",
            "Epoch 6/32\n",
            "511/511 [==============================] - 1s 2ms/step - loss: 23890434048.0000 - mse: 23890434048.0000 - val_loss: 24495634432.0000 - val_mse: 24495634432.0000\n",
            "Epoch 7/32\n",
            "511/511 [==============================] - 1s 2ms/step - loss: 22980157440.0000 - mse: 22980157440.0000 - val_loss: 23408605184.0000 - val_mse: 23408605184.0000\n",
            "Epoch 8/32\n",
            "511/511 [==============================] - 1s 2ms/step - loss: 21873305600.0000 - mse: 21873305600.0000 - val_loss: 22188879872.0000 - val_mse: 22188879872.0000\n",
            "Epoch 9/32\n",
            "511/511 [==============================] - 1s 2ms/step - loss: 20486660096.0000 - mse: 20486660096.0000 - val_loss: 20664735744.0000 - val_mse: 20664735744.0000\n",
            "Epoch 10/32\n",
            "511/511 [==============================] - 1s 2ms/step - loss: 18737610752.0000 - mse: 18737610752.0000 - val_loss: 18763481088.0000 - val_mse: 18763481088.0000\n",
            "Epoch 11/32\n",
            "511/511 [==============================] - 1s 2ms/step - loss: 16681545728.0000 - mse: 16681545728.0000 - val_loss: 16632829952.0000 - val_mse: 16632829952.0000\n",
            "Epoch 12/32\n",
            "511/511 [==============================] - 1s 2ms/step - loss: 14560379904.0000 - mse: 14560379904.0000 - val_loss: 14645684224.0000 - val_mse: 14645684224.0000\n",
            "Epoch 13/32\n",
            "511/511 [==============================] - 1s 2ms/step - loss: 12853074944.0000 - mse: 12853074944.0000 - val_loss: 13141485568.0000 - val_mse: 13141485568.0000\n",
            "Epoch 14/32\n",
            "511/511 [==============================] - 1s 2ms/step - loss: 11804985344.0000 - mse: 11804985344.0000 - val_loss: 12386401280.0000 - val_mse: 12386401280.0000\n",
            "Epoch 15/32\n",
            "511/511 [==============================] - 1s 2ms/step - loss: 11354561536.0000 - mse: 11354561536.0000 - val_loss: 12050852864.0000 - val_mse: 12050852864.0000\n",
            "Epoch 16/32\n",
            "511/511 [==============================] - 1s 2ms/step - loss: 11173147648.0000 - mse: 11173147648.0000 - val_loss: 11893640192.0000 - val_mse: 11893640192.0000\n",
            "Epoch 17/32\n",
            "511/511 [==============================] - 1s 2ms/step - loss: 11086630912.0000 - mse: 11086630912.0000 - val_loss: 11836238848.0000 - val_mse: 11836238848.0000\n",
            "Epoch 18/32\n",
            "511/511 [==============================] - 1s 2ms/step - loss: 11023300608.0000 - mse: 11023300608.0000 - val_loss: 11744031744.0000 - val_mse: 11744031744.0000\n",
            "Epoch 19/32\n",
            "511/511 [==============================] - 1s 2ms/step - loss: 10963786752.0000 - mse: 10963786752.0000 - val_loss: 11628815360.0000 - val_mse: 11628815360.0000\n",
            "Epoch 20/32\n",
            "511/511 [==============================] - 1s 2ms/step - loss: 10898235392.0000 - mse: 10898235392.0000 - val_loss: 11555996672.0000 - val_mse: 11555996672.0000\n",
            "Epoch 21/32\n",
            "511/511 [==============================] - 1s 2ms/step - loss: 10822000640.0000 - mse: 10822000640.0000 - val_loss: 11448237056.0000 - val_mse: 11448237056.0000\n",
            "Epoch 22/32\n",
            "511/511 [==============================] - 1s 2ms/step - loss: 10748664832.0000 - mse: 10748664832.0000 - val_loss: 11367036928.0000 - val_mse: 11367036928.0000\n",
            "Epoch 23/32\n",
            "511/511 [==============================] - 1s 2ms/step - loss: 10670607360.0000 - mse: 10670607360.0000 - val_loss: 11261402112.0000 - val_mse: 11261402112.0000\n",
            "Epoch 24/32\n",
            "511/511 [==============================] - 1s 3ms/step - loss: 10603354112.0000 - mse: 10603354112.0000 - val_loss: 11176776704.0000 - val_mse: 11176776704.0000\n",
            "Epoch 25/32\n",
            "511/511 [==============================] - 1s 2ms/step - loss: 10529083392.0000 - mse: 10529083392.0000 - val_loss: 11089993728.0000 - val_mse: 11089993728.0000\n",
            "Epoch 26/32\n",
            "511/511 [==============================] - 1s 3ms/step - loss: 10449824768.0000 - mse: 10449824768.0000 - val_loss: 10995604480.0000 - val_mse: 10995604480.0000\n",
            "Epoch 27/32\n",
            "511/511 [==============================] - 1s 2ms/step - loss: 10381963264.0000 - mse: 10381963264.0000 - val_loss: 10905758720.0000 - val_mse: 10905758720.0000\n",
            "Epoch 28/32\n",
            "511/511 [==============================] - 1s 3ms/step - loss: 10308832256.0000 - mse: 10308832256.0000 - val_loss: 10807582720.0000 - val_mse: 10807582720.0000\n",
            "Epoch 29/32\n",
            "511/511 [==============================] - 1s 3ms/step - loss: 10232396800.0000 - mse: 10232396800.0000 - val_loss: 10745449472.0000 - val_mse: 10745449472.0000\n",
            "Epoch 30/32\n",
            "511/511 [==============================] - 1s 2ms/step - loss: 10149754880.0000 - mse: 10149754880.0000 - val_loss: 10606887936.0000 - val_mse: 10606887936.0000\n",
            "Epoch 31/32\n",
            "511/511 [==============================] - 1s 2ms/step - loss: 10064716800.0000 - mse: 10064716800.0000 - val_loss: 10530939904.0000 - val_mse: 10530939904.0000\n",
            "Epoch 32/32\n",
            "511/511 [==============================] - 1s 2ms/step - loss: 9995878400.0000 - mse: 9995878400.0000 - val_loss: 10429603840.0000 - val_mse: 10429603840.0000\n"
          ]
        }
      ]
    },
    {
      "cell_type": "code",
      "metadata": {
        "colab": {
          "base_uri": "https://localhost:8080/"
        },
        "id": "lQM59fFo-iDK",
        "outputId": "d7c6a171-8dcb-4fb0-a363-f7112e598ebe"
      },
      "source": [
        "loss, mse = model.evaluate(train_ds)\n",
        "print(\"Mean Squared Error\", mse)"
      ],
      "execution_count": 35,
      "outputs": [
        {
          "output_type": "stream",
          "name": "stdout",
          "text": [
            "511/511 [==============================] - 1s 2ms/step - loss: 9963803648.0000 - mse: 9963803648.0000\n",
            "Mean Squared Error 9963803648.0\n"
          ]
        }
      ]
    },
    {
      "cell_type": "markdown",
      "metadata": {
        "id": "ytkawy0G-0ZE"
      },
      "source": [
        "## Visualizar la curva loss del modelo"
      ]
    },
    {
      "cell_type": "code",
      "metadata": {
        "id": "-bMWzaPt-wrg"
      },
      "source": [
        "def plot_curves(history, metrics):\n",
        "  nrows = 1\n",
        "  ncols = 2\n",
        "  fig = plt.figure(figsize=(10, 5))\n",
        "\n",
        "  for idx, key in enumerate(metrics):\n",
        "    ax = fig.add_subplot(nrows, ncols, idx+1)\n",
        "    plt.plot(history.history[key])\n",
        "    plt.plot(history.history['val_{}'.format(key)])\n",
        "    plt.title('model {}'.format(key))\n",
        "    plt.ylabel(key)\n",
        "    plt.xlabel('epoch')\n",
        "    plt.legend(['train', 'validation'], loc='upper left')"
      ],
      "execution_count": 41,
      "outputs": []
    },
    {
      "cell_type": "code",
      "metadata": {
        "colab": {
          "base_uri": "https://localhost:8080/",
          "height": 350
        },
        "id": "OCU4msyDAlD5",
        "outputId": "d8f9f0fd-6bb8-44d0-ea68-0e2d82d4cf31"
      },
      "source": [
        "plot_curves(history, ['loss', 'mse'])"
      ],
      "execution_count": 42,
      "outputs": [
        {
          "output_type": "display_data",
          "data": {
            "image/png": "[encoded data removed]",
            "text/plain": [
              "<Figure size 720x360 with 2 Axes>"
            ]
          },
          "metadata": {
            "needs_background": "light"
          }
        }
      ]
    },
    {
      "cell_type": "markdown",
      "metadata": {
        "id": "d0lq1hx5A7Aq"
      },
      "source": [
        "## Cargamos los datos de test"
      ]
    },
    {
      "cell_type": "code",
      "metadata": {
        "colab": {
          "base_uri": "https://localhost:8080/",
          "height": 297
        },
        "id": "UNad3OPTA6nO",
        "outputId": "52bdb0c7-775d-49f9-afe6-8cd4c9b8aeb6"
      },
      "source": [
        "test_data = pd.read_csv('housing-test.csv')\n",
        "test_data.describe()"
      ],
      "execution_count": 43,
      "outputs": [
        {
          "output_type": "execute_result",
          "data": {
            "text/html": [
              "<div>\n",
              "<style scoped>\n",
              "    .dataframe tbody tr th:only-of-type {\n",
              "        vertical-align: middle;\n",
              "    }\n",
              "\n",
              "    .dataframe tbody tr th {\n",
              "        vertical-align: top;\n",
              "    }\n",
              "\n",
              "    .dataframe thead th {\n",
              "        text-align: right;\n",
              "    }\n",
              "</style>\n",
              "<table border=\"1\" class=\"dataframe\">\n",
              "  <thead>\n",
              "    <tr style=\"text-align: right;\">\n",
              "      <th></th>\n",
              "      <th>longitude</th>\n",
              "      <th>latitude</th>\n",
              "      <th>housing_median_age</th>\n",
              "      <th>total_rooms</th>\n",
              "      <th>total_bedrooms</th>\n",
              "      <th>population</th>\n",
              "      <th>households</th>\n",
              "      <th>median_income</th>\n",
              "      <th>median_house_value</th>\n",
              "    </tr>\n",
              "  </thead>\n",
              "  <tbody>\n",
              "    <tr>\n",
              "      <th>count</th>\n",
              "      <td>4087.000000</td>\n",
              "      <td>4087.000000</td>\n",
              "      <td>4087.000000</td>\n",
              "      <td>4087.000000</td>\n",
              "      <td>4087.000000</td>\n",
              "      <td>4087.000000</td>\n",
              "      <td>4087.000000</td>\n",
              "      <td>4087.000000</td>\n",
              "      <td>4087.000000</td>\n",
              "    </tr>\n",
              "    <tr>\n",
              "      <th>mean</th>\n",
              "      <td>-119.522721</td>\n",
              "      <td>35.592048</td>\n",
              "      <td>28.753609</td>\n",
              "      <td>2611.853193</td>\n",
              "      <td>536.465378</td>\n",
              "      <td>1426.761683</td>\n",
              "      <td>496.924150</td>\n",
              "      <td>3.881323</td>\n",
              "      <td>205774.208466</td>\n",
              "    </tr>\n",
              "    <tr>\n",
              "      <th>std</th>\n",
              "      <td>2.001184</td>\n",
              "      <td>2.127375</td>\n",
              "      <td>12.208389</td>\n",
              "      <td>2120.406795</td>\n",
              "      <td>422.443031</td>\n",
              "      <td>1232.420661</td>\n",
              "      <td>384.651056</td>\n",
              "      <td>1.885586</td>\n",
              "      <td>114906.102260</td>\n",
              "    </tr>\n",
              "    <tr>\n",
              "      <th>min</th>\n",
              "      <td>-124.300000</td>\n",
              "      <td>32.560000</td>\n",
              "      <td>1.000000</td>\n",
              "      <td>2.000000</td>\n",
              "      <td>2.000000</td>\n",
              "      <td>6.000000</td>\n",
              "      <td>2.000000</td>\n",
              "      <td>0.499900</td>\n",
              "      <td>14999.000000</td>\n",
              "    </tr>\n",
              "    <tr>\n",
              "      <th>25%</th>\n",
              "      <td>-121.700000</td>\n",
              "      <td>33.930000</td>\n",
              "      <td>18.000000</td>\n",
              "      <td>1426.500000</td>\n",
              "      <td>292.000000</td>\n",
              "      <td>791.000000</td>\n",
              "      <td>276.000000</td>\n",
              "      <td>2.568500</td>\n",
              "      <td>121800.000000</td>\n",
              "    </tr>\n",
              "    <tr>\n",
              "      <th>50%</th>\n",
              "      <td>-118.460000</td>\n",
              "      <td>34.220000</td>\n",
              "      <td>29.000000</td>\n",
              "      <td>2109.000000</td>\n",
              "      <td>430.000000</td>\n",
              "      <td>1164.000000</td>\n",
              "      <td>404.000000</td>\n",
              "      <td>3.553600</td>\n",
              "      <td>178200.000000</td>\n",
              "    </tr>\n",
              "    <tr>\n",
              "      <th>75%</th>\n",
              "      <td>-117.990000</td>\n",
              "      <td>37.700000</td>\n",
              "      <td>37.000000</td>\n",
              "      <td>3149.000000</td>\n",
              "      <td>646.000000</td>\n",
              "      <td>1699.000000</td>\n",
              "      <td>604.000000</td>\n",
              "      <td>4.743150</td>\n",
              "      <td>261300.000000</td>\n",
              "    </tr>\n",
              "    <tr>\n",
              "      <th>max</th>\n",
              "      <td>-114.310000</td>\n",
              "      <td>41.920000</td>\n",
              "      <td>52.000000</td>\n",
              "      <td>27700.000000</td>\n",
              "      <td>4819.000000</td>\n",
              "      <td>35682.000000</td>\n",
              "      <td>4769.000000</td>\n",
              "      <td>15.000100</td>\n",
              "      <td>500001.000000</td>\n",
              "    </tr>\n",
              "  </tbody>\n",
              "</table>\n",
              "</div>"
            ],
            "text/plain": [
              "         longitude     latitude  ...  median_income  median_house_value\n",
              "count  4087.000000  4087.000000  ...    4087.000000         4087.000000\n",
              "mean   -119.522721    35.592048  ...       3.881323       205774.208466\n",
              "std       2.001184     2.127375  ...       1.885586       114906.102260\n",
              "min    -124.300000    32.560000  ...       0.499900        14999.000000\n",
              "25%    -121.700000    33.930000  ...       2.568500       121800.000000\n",
              "50%    -118.460000    34.220000  ...       3.553600       178200.000000\n",
              "75%    -117.990000    37.700000  ...       4.743150       261300.000000\n",
              "max    -114.310000    41.920000  ...      15.000100       500001.000000\n",
              "\n",
              "[8 rows x 9 columns]"
            ]
          },
          "metadata": {},
          "execution_count": 43
        }
      ]
    },
    {
      "cell_type": "code",
      "metadata": {
        "id": "J65-ZjDzBGdi"
      },
      "source": [
        "def test_input_fn(features, batch_size=256):\n",
        "  return tf.data.Dataset.from_tensor_slices(dict(features)).batch(batch_size)"
      ],
      "execution_count": 44,
      "outputs": []
    },
    {
      "cell_type": "code",
      "metadata": {
        "id": "xhSmerctBfWi"
      },
      "source": [
        "test_predict = test_input_fn(dict(test_data))"
      ],
      "execution_count": 45,
      "outputs": []
    },
    {
      "cell_type": "code",
      "metadata": {
        "colab": {
          "base_uri": "https://localhost:8080/"
        },
        "id": "dobAv9vhBsW2",
        "outputId": "15bee4fc-37dc-4c9c-b0c4-3f8fb510300e"
      },
      "source": [
        "predicted_median_house_value = model.predict(test_predict)\n",
        "print(predicted_median_house_value)"
      ],
      "execution_count": 47,
      "outputs": [
        {
          "output_type": "stream",
          "name": "stdout",
          "text": [
            "[[214268.1 ]\n",
            " [220922.61]\n",
            " [180103.3 ]\n",
            " ...\n",
            " [198346.3 ]\n",
            " [211537.97]\n",
            " [330057.  ]]\n"
          ]
        }
      ]
    },
    {
      "cell_type": "markdown",
      "metadata": {
        "id": "EChkxVlICXJK"
      },
      "source": [
        "# Lab 2: Creando features numericos y categoricos\n"
      ]
    },
    {
      "cell_type": "code",
      "metadata": {
        "id": "v6qA6MggCfW7"
      },
      "source": [
        "numeric_cols = ['longitude', 'latitude', 'housing_median_age', 'total_rooms', \n",
        "                'total_bedrooms', 'population', 'households', 'median_income']\n",
        "\n",
        "bucketized_cols = ['housing_median_age']\n",
        "\n",
        "categorical_cols = ['ocean_proximity']\n"
      ],
      "execution_count": 71,
      "outputs": []
    },
    {
      "cell_type": "code",
      "metadata": {
        "id": "VsNzsuONKrRp"
      },
      "source": [
        "def get_scal(feature):\n",
        "  def minmax(x):\n",
        "    mini = train[feature].min()\n",
        "    maxi = train[feature].max()\n",
        "    return (x - mini)/(maxi - mini)\n",
        "    return(minmax)"
      ],
      "execution_count": 72,
      "outputs": []
    },
    {
      "cell_type": "code",
      "metadata": {
        "id": "-iQzBKe0LBxX"
      },
      "source": [
        "feature_columns = []\n",
        "for header in numeric_cols:\n",
        "  scal_input_fn = get_scal(header)\n",
        "  feature_columns.append(fc.numeric_column(header, \n",
        "                                            normalizer_fn=scal_input_fn))"
      ],
      "execution_count": 73,
      "outputs": []
    },
    {
      "cell_type": "markdown",
      "metadata": {
        "id": "i1nn0Tg4MCfz"
      },
      "source": [
        "### One hot encode categorical feature"
      ]
    },
    {
      "cell_type": "code",
      "metadata": {
        "id": "q31dzWrxMGVO"
      },
      "source": [
        "for feature_name in categorical_cols:\n",
        "  vocabulary = housing_df[feature_name].unique()\n",
        "  categorical_c = fc.categorical_column_with_vocabulary_list(feature_name, vocabulary)\n",
        "  one_hot = fc.indicator_column(categorical_c)\n",
        "  feature_columns.append(one_hot)"
      ],
      "execution_count": 74,
      "outputs": []
    },
    {
      "cell_type": "markdown",
      "metadata": {
        "id": "TKfj8fCWMoB6"
      },
      "source": [
        "### Bucketized feature"
      ]
    },
    {
      "cell_type": "code",
      "metadata": {
        "id": "_e031BeRMbqC"
      },
      "source": [
        "age = fc.numeric_column(\"housing_median_age\")\n",
        "\n",
        "age_buckets = fc.bucketized_column(age, boundaries=[10,20,30,40,50,60,80,100])\n",
        "feature_columns.append(age_buckets)"
      ],
      "execution_count": 75,
      "outputs": []
    },
    {
      "cell_type": "markdown",
      "metadata": {
        "id": "MBLJV9GmNSNZ"
      },
      "source": [
        "### Feature cross\n",
        "Combinand varias features a una sola"
      ]
    },
    {
      "cell_type": "code",
      "metadata": {
        "id": "squVJd8RNXuB"
      },
      "source": [
        "vocabulary = housing_df['ocean_proximity'].unique()\n",
        "ocean_proximity = fc.categorical_column_with_vocabulary_list('ocean_proximity', \n",
        "                                                             vocabulary)\n",
        "\n",
        "crossed_feature = fc.crossed_column([age_buckets, ocean_proximity], \n",
        "                                    hash_bucket_size=1000)\n",
        "crossed_feature = fc.indicator_column(crossed_feature)\n",
        "feature_columns.append(crossed_feature)"
      ],
      "execution_count": 76,
      "outputs": []
    },
    {
      "cell_type": "code",
      "metadata": {
        "colab": {
          "base_uri": "https://localhost:8080/"
        },
        "id": "jxP0u1MZN8uO",
        "outputId": "b52144f9-16ce-4f08-c471-e00fa0ece9de"
      },
      "source": [
        "print('Total number of feature columns: ', len(feature_columns))"
      ],
      "execution_count": 68,
      "outputs": [
        {
          "output_type": "stream",
          "name": "stdout",
          "text": [
            "Total number of feature columns:  11\n"
          ]
        }
      ]
    },
    {
      "cell_type": "code",
      "metadata": {
        "colab": {
          "base_uri": "https://localhost:8080/"
        },
        "id": "nPBxBRq_OIJJ",
        "outputId": "f78f467d-2561-404b-87dd-2bbfff83715b"
      },
      "source": [
        "feature_layer = tf.keras.layers.DenseFeatures(feature_columns, dtype='float64')\n",
        "\n",
        "model = tf.keras.Sequential([\n",
        "                             feature_layer,\n",
        "                             layers.Dense(12, input_dim=8, activation='relu'),\n",
        "                             layers.Dense(8, activation='relu'),\n",
        "                             layers.Dense(1, activation='linear', name='median_house_value')\n",
        "])\n",
        "\n",
        "model.compile(optimizer='adam', loss='mse', metrics=['mse'])\n",
        "\n",
        "history = model.fit(train_ds, validation_data=val_ds, epochs=32)"
      ],
      "execution_count": 77,
      "outputs": [
        {
          "output_type": "stream",
          "name": "stdout",
          "text": [
            "Epoch 1/32\n",
            "WARNING:tensorflow:Layers in a Sequential model should only have a single input tensor, but we receive a <class 'dict'> input: {'longitude': <tf.Tensor 'ExpandDims_3:0' shape=(None, 1) dtype=float64>, 'latitude': <tf.Tensor 'ExpandDims_2:0' shape=(None, 1) dtype=float64>, 'housing_median_age': <tf.Tensor 'ExpandDims_1:0' shape=(None, 1) dtype=float64>, 'total_rooms': <tf.Tensor 'ExpandDims_8:0' shape=(None, 1) dtype=float64>, 'total_bedrooms': <tf.Tensor 'ExpandDims_7:0' shape=(None, 1) dtype=float64>, 'population': <tf.Tensor 'ExpandDims_6:0' shape=(None, 1) dtype=float64>, 'households': <tf.Tensor 'ExpandDims:0' shape=(None, 1) dtype=float64>, 'median_income': <tf.Tensor 'ExpandDims_4:0' shape=(None, 1) dtype=float64>, 'ocean_proximity': <tf.Tensor 'ExpandDims_5:0' shape=(None, 1) dtype=string>}\n",
            "Consider rewriting this model with the Functional API.\n",
            "WARNING:tensorflow:Layers in a Sequential model should only have a single input tensor, but we receive a <class 'dict'> input: {'longitude': <tf.Tensor 'ExpandDims_3:0' shape=(None, 1) dtype=float64>, 'latitude': <tf.Tensor 'ExpandDims_2:0' shape=(None, 1) dtype=float64>, 'housing_median_age': <tf.Tensor 'ExpandDims_1:0' shape=(None, 1) dtype=float64>, 'total_rooms': <tf.Tensor 'ExpandDims_8:0' shape=(None, 1) dtype=float64>, 'total_bedrooms': <tf.Tensor 'ExpandDims_7:0' shape=(None, 1) dtype=float64>, 'population': <tf.Tensor 'ExpandDims_6:0' shape=(None, 1) dtype=float64>, 'households': <tf.Tensor 'ExpandDims:0' shape=(None, 1) dtype=float64>, 'median_income': <tf.Tensor 'ExpandDims_4:0' shape=(None, 1) dtype=float64>, 'ocean_proximity': <tf.Tensor 'ExpandDims_5:0' shape=(None, 1) dtype=string>}\n",
            "Consider rewriting this model with the Functional API.\n",
            "499/511 [============================>.] - ETA: 0s - loss: 46269411328.0000 - mse: 46269411328.0000WARNING:tensorflow:Layers in a Sequential model should only have a single input tensor, but we receive a <class 'dict'> input: {'longitude': <tf.Tensor 'ExpandDims_3:0' shape=(None, 1) dtype=float64>, 'latitude': <tf.Tensor 'ExpandDims_2:0' shape=(None, 1) dtype=float64>, 'housing_median_age': <tf.Tensor 'ExpandDims_1:0' shape=(None, 1) dtype=float64>, 'total_rooms': <tf.Tensor 'ExpandDims_8:0' shape=(None, 1) dtype=float64>, 'total_bedrooms': <tf.Tensor 'ExpandDims_7:0' shape=(None, 1) dtype=float64>, 'population': <tf.Tensor 'ExpandDims_6:0' shape=(None, 1) dtype=float64>, 'households': <tf.Tensor 'ExpandDims:0' shape=(None, 1) dtype=float64>, 'median_income': <tf.Tensor 'ExpandDims_4:0' shape=(None, 1) dtype=float64>, 'ocean_proximity': <tf.Tensor 'ExpandDims_5:0' shape=(None, 1) dtype=string>}\n",
            "Consider rewriting this model with the Functional API.\n",
            "511/511 [==============================] - 3s 4ms/step - loss: 45823098880.0000 - mse: 45823098880.0000 - val_loss: 32184440832.0000 - val_mse: 32184440832.0000\n",
            "Epoch 2/32\n",
            "511/511 [==============================] - 2s 3ms/step - loss: 26994882560.0000 - mse: 26994882560.0000 - val_loss: 27417012224.0000 - val_mse: 27417012224.0000\n",
            "Epoch 3/32\n",
            "511/511 [==============================] - 2s 3ms/step - loss: 25993521152.0000 - mse: 25993521152.0000 - val_loss: 26605287424.0000 - val_mse: 26605287424.0000\n",
            "Epoch 4/32\n",
            "511/511 [==============================] - 1s 3ms/step - loss: 25276915712.0000 - mse: 25276915712.0000 - val_loss: 25890600960.0000 - val_mse: 25890600960.0000\n",
            "Epoch 5/32\n",
            "511/511 [==============================] - 2s 3ms/step - loss: 24384765952.0000 - mse: 24384765952.0000 - val_loss: 25037697024.0000 - val_mse: 25037697024.0000\n",
            "Epoch 6/32\n",
            "511/511 [==============================] - 1s 3ms/step - loss: 23405895680.0000 - mse: 23405895680.0000 - val_loss: 23837229056.0000 - val_mse: 23837229056.0000\n",
            "Epoch 7/32\n",
            "511/511 [==============================] - 2s 3ms/step - loss: 22279438336.0000 - mse: 22279438336.0000 - val_loss: 22706880512.0000 - val_mse: 22706880512.0000\n",
            "Epoch 8/32\n",
            "511/511 [==============================] - 2s 3ms/step - loss: 21032689664.0000 - mse: 21032689664.0000 - val_loss: 21357516800.0000 - val_mse: 21357516800.0000\n",
            "Epoch 9/32\n",
            "511/511 [==============================] - 2s 3ms/step - loss: 19654932480.0000 - mse: 19654932480.0000 - val_loss: 19953324032.0000 - val_mse: 19953324032.0000\n",
            "Epoch 10/32\n",
            "511/511 [==============================] - 2s 3ms/step - loss: 18144571392.0000 - mse: 18144571392.0000 - val_loss: 18430935040.0000 - val_mse: 18430935040.0000\n",
            "Epoch 11/32\n",
            "511/511 [==============================] - 2s 3ms/step - loss: 16555179008.0000 - mse: 16555179008.0000 - val_loss: 16750526464.0000 - val_mse: 16750526464.0000\n",
            "Epoch 12/32\n",
            "511/511 [==============================] - 2s 3ms/step - loss: 14918392832.0000 - mse: 14918392832.0000 - val_loss: 15152106496.0000 - val_mse: 15152106496.0000\n",
            "Epoch 13/32\n",
            "511/511 [==============================] - 2s 3ms/step - loss: 13392043008.0000 - mse: 13392043008.0000 - val_loss: 13733058560.0000 - val_mse: 13733058560.0000\n",
            "Epoch 14/32\n",
            "511/511 [==============================] - 2s 3ms/step - loss: 12184294400.0000 - mse: 12184294400.0000 - val_loss: 12668246016.0000 - val_mse: 12668246016.0000\n",
            "Epoch 15/32\n",
            "511/511 [==============================] - 2s 3ms/step - loss: 11452269568.0000 - mse: 11452269568.0000 - val_loss: 12093006848.0000 - val_mse: 12093006848.0000\n",
            "Epoch 16/32\n",
            "511/511 [==============================] - 2s 3ms/step - loss: 11117509632.0000 - mse: 11117509632.0000 - val_loss: 11828838400.0000 - val_mse: 11828838400.0000\n",
            "Epoch 17/32\n",
            "511/511 [==============================] - 2s 3ms/step - loss: 10985656320.0000 - mse: 10985656320.0000 - val_loss: 11704443904.0000 - val_mse: 11704443904.0000\n",
            "Epoch 18/32\n",
            "511/511 [==============================] - 1s 3ms/step - loss: 10909679616.0000 - mse: 10909679616.0000 - val_loss: 11606473728.0000 - val_mse: 11606473728.0000\n",
            "Epoch 19/32\n",
            "511/511 [==============================] - 2s 3ms/step - loss: 10851141632.0000 - mse: 10851141632.0000 - val_loss: 11536813056.0000 - val_mse: 11536813056.0000\n",
            "Epoch 20/32\n",
            "511/511 [==============================] - 1s 3ms/step - loss: 10799403008.0000 - mse: 10799403008.0000 - val_loss: 11458018304.0000 - val_mse: 11458018304.0000\n",
            "Epoch 21/32\n",
            "511/511 [==============================] - 2s 3ms/step - loss: 10741629952.0000 - mse: 10741629952.0000 - val_loss: 11386080256.0000 - val_mse: 11386080256.0000\n",
            "Epoch 22/32\n",
            "511/511 [==============================] - 1s 3ms/step - loss: 10685920256.0000 - mse: 10685920256.0000 - val_loss: 11315140608.0000 - val_mse: 11315140608.0000\n",
            "Epoch 23/32\n",
            "511/511 [==============================] - 2s 3ms/step - loss: 10626980864.0000 - mse: 10626980864.0000 - val_loss: 11254601728.0000 - val_mse: 11254601728.0000\n",
            "Epoch 24/32\n",
            "511/511 [==============================] - 2s 3ms/step - loss: 10570394624.0000 - mse: 10570394624.0000 - val_loss: 11187706880.0000 - val_mse: 11187706880.0000\n",
            "Epoch 25/32\n",
            "511/511 [==============================] - 2s 3ms/step - loss: 10518160384.0000 - mse: 10518160384.0000 - val_loss: 11114896384.0000 - val_mse: 11114896384.0000\n",
            "Epoch 26/32\n",
            "511/511 [==============================] - 2s 3ms/step - loss: 10456800256.0000 - mse: 10456800256.0000 - val_loss: 11036804096.0000 - val_mse: 11036804096.0000\n",
            "Epoch 27/32\n",
            "511/511 [==============================] - 2s 3ms/step - loss: 10400128000.0000 - mse: 10400128000.0000 - val_loss: 10975932416.0000 - val_mse: 10975932416.0000\n",
            "Epoch 28/32\n",
            "511/511 [==============================] - 1s 3ms/step - loss: 10339109888.0000 - mse: 10339109888.0000 - val_loss: 10894368768.0000 - val_mse: 10894368768.0000\n",
            "Epoch 29/32\n",
            "511/511 [==============================] - 2s 3ms/step - loss: 10282409984.0000 - mse: 10282409984.0000 - val_loss: 10829405184.0000 - val_mse: 10829405184.0000\n",
            "Epoch 30/32\n",
            "511/511 [==============================] - 2s 3ms/step - loss: 10217035776.0000 - mse: 10217035776.0000 - val_loss: 10736984064.0000 - val_mse: 10736984064.0000\n",
            "Epoch 31/32\n",
            "511/511 [==============================] - 2s 3ms/step - loss: 10151317504.0000 - mse: 10151317504.0000 - val_loss: 10657218560.0000 - val_mse: 10657218560.0000\n",
            "Epoch 32/32\n",
            "511/511 [==============================] - 2s 3ms/step - loss: 10082936832.0000 - mse: 10082936832.0000 - val_loss: 10583796736.0000 - val_mse: 10583796736.0000\n"
          ]
        }
      ]
    },
    {
      "cell_type": "code",
      "metadata": {
        "colab": {
          "base_uri": "https://localhost:8080/"
        },
        "id": "v7DJUlR7QmGB",
        "outputId": "ac0dafba-7e3d-44a2-d1de-dc543d3fb1d9"
      },
      "source": [
        "loss, mse = model.evaluate(train_ds)\n",
        "print(\"mean squared error\", mse)"
      ],
      "execution_count": 78,
      "outputs": [
        {
          "output_type": "stream",
          "name": "stdout",
          "text": [
            "511/511 [==============================] - 1s 2ms/step - loss: 10039212032.0000 - mse: 10039212032.0000\n",
            "mean squared error 10039212032.0\n"
          ]
        }
      ]
    },
    {
      "cell_type": "code",
      "metadata": {
        "colab": {
          "base_uri": "https://localhost:8080/",
          "height": 350
        },
        "id": "lne_j1C2Qu8R",
        "outputId": "5d50a841-0212-408c-fdf8-3969766b197a"
      },
      "source": [
        "plot_curves(history, ['loss', 'mse'])"
      ],
      "execution_count": 79,
      "outputs": [
        {
          "output_type": "display_data",
          "data": {
            "image/png": "[encoded data removed]",
            "text/plain": [
              "<Figure size 720x360 with 2 Axes>"
            ]
          },
          "metadata": {
            "needs_background": "light"
          }
        }
      ]
    }
  ]
}