{
  "nbformat": 4,
  "nbformat_minor": 0,
  "metadata": {
    "colab": {
      "name": "Basic Feature Engineering in Keras.ipynb",
      "provenance": [],
      "authorship_tag": "ABX9TyMFPM4IrJUAzbjX2M57VOa4",
      "include_colab_link": true
    },
    "kernelspec": {
      "name": "python3",
      "display_name": "Python 3"
    },
    "language_info": {
      "name": "python"
    }
  },
  "cells": [
    {
      "cell_type": "markdown",
      "metadata": {
        "id": "view-in-github",
        "colab_type": "text"
      },
      "source": [
        "<a href=\"https://colab.research.google.com/github/arandi-ar/feature_engineering-/blob/main/Basic_Feature_Engineering_in_Keras.ipynb\" target=\"_parent\"><img src=\"https://colab.research.google.com/assets/colab-badge.svg\" alt=\"Open In Colab\"/></a>"
      ]
    },
    {
      "cell_type": "code",
      "metadata": {
        "colab": {
          "base_uri": "https://localhost:8080/"
        },
        "id": "LLmOqNbK2FXC",
        "outputId": "ad42e8df-aad6-4138-c89c-d32e7747e5a9"
      },
      "source": [
        "pip install sklearn"
      ],
      "execution_count": null,
      "outputs": [
        {
          "output_type": "stream",
          "name": "stdout",
          "text": [
            "Requirement already satisfied: sklearn in /usr/local/lib/python3.7/dist-packages (0.0)\n",
            "Requirement already satisfied: scikit-learn in /usr/local/lib/python3.7/dist-packages (from sklearn) (0.22.2.post1)\n",
            "Requirement already satisfied: scipy>=0.17.0 in /usr/local/lib/python3.7/dist-packages (from scikit-learn->sklearn) (1.4.1)\n",
            "Requirement already satisfied: joblib>=0.11 in /usr/local/lib/python3.7/dist-packages (from scikit-learn->sklearn) (1.0.1)\n",
            "Requirement already satisfied: numpy>=1.11.0 in /usr/local/lib/python3.7/dist-packages (from scikit-learn->sklearn) (1.19.5)\n"
          ]
        }
      ]
    },
    {
      "cell_type": "code",
      "metadata": {
        "colab": {
          "base_uri": "https://localhost:8080/"
        },
        "id": "9c0L4Xbo3IJh",
        "outputId": "652a76f0-6f59-4b14-d8f0-f47096229fc3"
      },
      "source": [
        "!wget https://raw.githubusercontent.com/gstripling/training-data-analyst/master/housing_pre-proc.csv"
      ],
      "execution_count": null,
      "outputs": [
        {
          "output_type": "stream",
          "name": "stdout",
          "text": [
            "--2021-10-27 13:24:28--  https://raw.githubusercontent.com/gstripling/training-data-analyst/master/housing_pre-proc.csv\n",
            "Resolving raw.githubusercontent.com (raw.githubusercontent.com)... 185.199.108.133, 185.199.109.133, 185.199.110.133, ...\n",
            "Connecting to raw.githubusercontent.com (raw.githubusercontent.com)|185.199.108.133|:443... connected.\n",
            "HTTP request sent, awaiting response... 200 OK\n",
            "Length: 1435069 (1.4M) [text/plain]\n",
            "Saving to: ‘housing_pre-proc.csv’\n",
            "\n",
            "housing_pre-proc.cs 100%[===================>]   1.37M  --.-KB/s    in 0.03s   \n",
            "\n",
            "2021-10-27 13:24:28 (39.3 MB/s) - ‘housing_pre-proc.csv’ saved [1435069/1435069]\n",
            "\n"
          ]
        }
      ]
    },
    {
      "cell_type": "code",
      "metadata": {
        "colab": {
          "base_uri": "https://localhost:8080/"
        },
        "id": "Jkx6jqEY1iND",
        "outputId": "0a9359ec-c6b2-4b3a-cf33-5a66f858e812"
      },
      "source": [
        "import os\n",
        "import tensorflow.keras\n",
        "\n",
        "import matplotlib.pyplot as plt\n",
        "import pandas as pd\n",
        "import tensorflow as tf\n",
        "\n",
        "from tensorflow import feature_column as fc\n",
        "from tensorflow.keras import layers\n",
        "from sklearn.model_selection import train_test_split\n",
        "\n",
        "print(tf.version.VERSION)"
      ],
      "execution_count": null,
      "outputs": [
        {
          "output_type": "stream",
          "name": "stdout",
          "text": [
            "2.6.0\n"
          ]
        }
      ]
    },
    {
      "cell_type": "code",
      "metadata": {
        "colab": {
          "base_uri": "https://localhost:8080/",
          "height": 204
        },
        "id": "sQjHDgEY3RXl",
        "outputId": "740dcb15-6216-44d9-f4d0-7aa87130ea37"
      },
      "source": [
        "housing_df = pd.read_csv('housing_pre-proc.csv', error_bad_lines=False)\n",
        "housing_df.head()"
      ],
      "execution_count": null,
      "outputs": [
        {
          "output_type": "execute_result",
          "data": {
            "text/html": [
              "<div>\n",
              "<style scoped>\n",
              "    .dataframe tbody tr th:only-of-type {\n",
              "        vertical-align: middle;\n",
              "    }\n",
              "\n",
              "    .dataframe tbody tr th {\n",
              "        vertical-align: top;\n",
              "    }\n",
              "\n",
              "    .dataframe thead th {\n",
              "        text-align: right;\n",
              "    }\n",
              "</style>\n",
              "<table border=\"1\" class=\"dataframe\">\n",
              "  <thead>\n",
              "    <tr style=\"text-align: right;\">\n",
              "      <th></th>\n",
              "      <th>longitude</th>\n",
              "      <th>latitude</th>\n",
              "      <th>housing_median_age</th>\n",
              "      <th>total_rooms</th>\n",
              "      <th>total_bedrooms</th>\n",
              "      <th>population</th>\n",
              "      <th>households</th>\n",
              "      <th>median_income</th>\n",
              "      <th>median_house_value</th>\n",
              "      <th>ocean_proximity</th>\n",
              "    </tr>\n",
              "  </thead>\n",
              "  <tbody>\n",
              "    <tr>\n",
              "      <th>0</th>\n",
              "      <td>-122.23</td>\n",
              "      <td>37.88</td>\n",
              "      <td>41.0</td>\n",
              "      <td>880.0</td>\n",
              "      <td>129.0</td>\n",
              "      <td>322.0</td>\n",
              "      <td>126.0</td>\n",
              "      <td>8.3252</td>\n",
              "      <td>452600.0</td>\n",
              "      <td>NEAR BAY</td>\n",
              "    </tr>\n",
              "    <tr>\n",
              "      <th>1</th>\n",
              "      <td>-122.22</td>\n",
              "      <td>37.86</td>\n",
              "      <td>21.0</td>\n",
              "      <td>7099.0</td>\n",
              "      <td>1106.0</td>\n",
              "      <td>2401.0</td>\n",
              "      <td>1138.0</td>\n",
              "      <td>8.3014</td>\n",
              "      <td>358500.0</td>\n",
              "      <td>NEAR BAY</td>\n",
              "    </tr>\n",
              "    <tr>\n",
              "      <th>2</th>\n",
              "      <td>-122.24</td>\n",
              "      <td>37.85</td>\n",
              "      <td>52.0</td>\n",
              "      <td>1467.0</td>\n",
              "      <td>190.0</td>\n",
              "      <td>496.0</td>\n",
              "      <td>177.0</td>\n",
              "      <td>7.2574</td>\n",
              "      <td>352100.0</td>\n",
              "      <td>NEAR BAY</td>\n",
              "    </tr>\n",
              "    <tr>\n",
              "      <th>3</th>\n",
              "      <td>-122.25</td>\n",
              "      <td>37.85</td>\n",
              "      <td>52.0</td>\n",
              "      <td>1274.0</td>\n",
              "      <td>235.0</td>\n",
              "      <td>558.0</td>\n",
              "      <td>219.0</td>\n",
              "      <td>5.6431</td>\n",
              "      <td>341300.0</td>\n",
              "      <td>NEAR BAY</td>\n",
              "    </tr>\n",
              "    <tr>\n",
              "      <th>4</th>\n",
              "      <td>-122.25</td>\n",
              "      <td>37.85</td>\n",
              "      <td>52.0</td>\n",
              "      <td>1627.0</td>\n",
              "      <td>280.0</td>\n",
              "      <td>565.0</td>\n",
              "      <td>259.0</td>\n",
              "      <td>3.8462</td>\n",
              "      <td>342200.0</td>\n",
              "      <td>NEAR BAY</td>\n",
              "    </tr>\n",
              "  </tbody>\n",
              "</table>\n",
              "</div>"
            ],
            "text/plain": [
              "   longitude  latitude  ...  median_house_value  ocean_proximity\n",
              "0    -122.23     37.88  ...            452600.0         NEAR BAY\n",
              "1    -122.22     37.86  ...            358500.0         NEAR BAY\n",
              "2    -122.24     37.85  ...            352100.0         NEAR BAY\n",
              "3    -122.25     37.85  ...            341300.0         NEAR BAY\n",
              "4    -122.25     37.85  ...            342200.0         NEAR BAY\n",
              "\n",
              "[5 rows x 10 columns]"
            ]
          },
          "metadata": {},
          "execution_count": 6
        }
      ]
    },
    {
      "cell_type": "code",
      "metadata": {
        "colab": {
          "base_uri": "https://localhost:8080/",
          "height": 297
        },
        "id": "AFbXczzU3irI",
        "outputId": "1a505a36-367e-409b-a7b5-4025ab18b6c8"
      },
      "source": [
        "housing_df.describe()"
      ],
      "execution_count": null,
      "outputs": [
        {
          "output_type": "execute_result",
          "data": {
            "text/html": [
              "<div>\n",
              "<style scoped>\n",
              "    .dataframe tbody tr th:only-of-type {\n",
              "        vertical-align: middle;\n",
              "    }\n",
              "\n",
              "    .dataframe tbody tr th {\n",
              "        vertical-align: top;\n",
              "    }\n",
              "\n",
              "    .dataframe thead th {\n",
              "        text-align: right;\n",
              "    }\n",
              "</style>\n",
              "<table border=\"1\" class=\"dataframe\">\n",
              "  <thead>\n",
              "    <tr style=\"text-align: right;\">\n",
              "      <th></th>\n",
              "      <th>longitude</th>\n",
              "      <th>latitude</th>\n",
              "      <th>housing_median_age</th>\n",
              "      <th>total_rooms</th>\n",
              "      <th>total_bedrooms</th>\n",
              "      <th>population</th>\n",
              "      <th>households</th>\n",
              "      <th>median_income</th>\n",
              "      <th>median_house_value</th>\n",
              "    </tr>\n",
              "  </thead>\n",
              "  <tbody>\n",
              "    <tr>\n",
              "      <th>count</th>\n",
              "      <td>20433.000000</td>\n",
              "      <td>20433.000000</td>\n",
              "      <td>20433.000000</td>\n",
              "      <td>20433.000000</td>\n",
              "      <td>20433.000000</td>\n",
              "      <td>20433.000000</td>\n",
              "      <td>20433.000000</td>\n",
              "      <td>20433.000000</td>\n",
              "      <td>20433.000000</td>\n",
              "    </tr>\n",
              "    <tr>\n",
              "      <th>mean</th>\n",
              "      <td>-119.570689</td>\n",
              "      <td>35.633221</td>\n",
              "      <td>28.633094</td>\n",
              "      <td>2636.504233</td>\n",
              "      <td>537.870553</td>\n",
              "      <td>1424.946949</td>\n",
              "      <td>499.433465</td>\n",
              "      <td>3.871162</td>\n",
              "      <td>206864.413155</td>\n",
              "    </tr>\n",
              "    <tr>\n",
              "      <th>std</th>\n",
              "      <td>2.003578</td>\n",
              "      <td>2.136348</td>\n",
              "      <td>12.591805</td>\n",
              "      <td>2185.269567</td>\n",
              "      <td>421.385070</td>\n",
              "      <td>1133.208490</td>\n",
              "      <td>382.299226</td>\n",
              "      <td>1.899291</td>\n",
              "      <td>115435.667099</td>\n",
              "    </tr>\n",
              "    <tr>\n",
              "      <th>min</th>\n",
              "      <td>-124.350000</td>\n",
              "      <td>32.540000</td>\n",
              "      <td>1.000000</td>\n",
              "      <td>2.000000</td>\n",
              "      <td>1.000000</td>\n",
              "      <td>3.000000</td>\n",
              "      <td>1.000000</td>\n",
              "      <td>0.499900</td>\n",
              "      <td>14999.000000</td>\n",
              "    </tr>\n",
              "    <tr>\n",
              "      <th>25%</th>\n",
              "      <td>-121.800000</td>\n",
              "      <td>33.930000</td>\n",
              "      <td>18.000000</td>\n",
              "      <td>1450.000000</td>\n",
              "      <td>296.000000</td>\n",
              "      <td>787.000000</td>\n",
              "      <td>280.000000</td>\n",
              "      <td>2.563700</td>\n",
              "      <td>119500.000000</td>\n",
              "    </tr>\n",
              "    <tr>\n",
              "      <th>50%</th>\n",
              "      <td>-118.490000</td>\n",
              "      <td>34.260000</td>\n",
              "      <td>29.000000</td>\n",
              "      <td>2127.000000</td>\n",
              "      <td>435.000000</td>\n",
              "      <td>1166.000000</td>\n",
              "      <td>409.000000</td>\n",
              "      <td>3.536500</td>\n",
              "      <td>179700.000000</td>\n",
              "    </tr>\n",
              "    <tr>\n",
              "      <th>75%</th>\n",
              "      <td>-118.010000</td>\n",
              "      <td>37.720000</td>\n",
              "      <td>37.000000</td>\n",
              "      <td>3143.000000</td>\n",
              "      <td>647.000000</td>\n",
              "      <td>1722.000000</td>\n",
              "      <td>604.000000</td>\n",
              "      <td>4.744000</td>\n",
              "      <td>264700.000000</td>\n",
              "    </tr>\n",
              "    <tr>\n",
              "      <th>max</th>\n",
              "      <td>-114.310000</td>\n",
              "      <td>41.950000</td>\n",
              "      <td>52.000000</td>\n",
              "      <td>39320.000000</td>\n",
              "      <td>6445.000000</td>\n",
              "      <td>35682.000000</td>\n",
              "      <td>6082.000000</td>\n",
              "      <td>15.000100</td>\n",
              "      <td>500001.000000</td>\n",
              "    </tr>\n",
              "  </tbody>\n",
              "</table>\n",
              "</div>"
            ],
            "text/plain": [
              "          longitude      latitude  ...  median_income  median_house_value\n",
              "count  20433.000000  20433.000000  ...   20433.000000        20433.000000\n",
              "mean    -119.570689     35.633221  ...       3.871162       206864.413155\n",
              "std        2.003578      2.136348  ...       1.899291       115435.667099\n",
              "min     -124.350000     32.540000  ...       0.499900        14999.000000\n",
              "25%     -121.800000     33.930000  ...       2.563700       119500.000000\n",
              "50%     -118.490000     34.260000  ...       3.536500       179700.000000\n",
              "75%     -118.010000     37.720000  ...       4.744000       264700.000000\n",
              "max     -114.310000     41.950000  ...      15.000100       500001.000000\n",
              "\n",
              "[8 rows x 9 columns]"
            ]
          },
          "metadata": {},
          "execution_count": 7
        }
      ]
    },
    {
      "cell_type": "markdown",
      "metadata": {
        "id": "x-y8r55Y3n6L"
      },
      "source": [
        "# Partiendo el dataset para ML\n",
        "Tenemos que partirlo el CSV en train, validation y test"
      ]
    },
    {
      "cell_type": "code",
      "metadata": {
        "id": "AhsdZCM-335E"
      },
      "source": [
        "train, test = train_test_split(housing_df, test_size=0.2)\n",
        "train, val = train_test_split(housing_df, test_size=0.2)"
      ],
      "execution_count": null,
      "outputs": []
    },
    {
      "cell_type": "markdown",
      "metadata": {
        "id": "0B26dCqX4Kix"
      },
      "source": [
        "Vamos a guardarlos en archivos diferentes"
      ]
    },
    {
      "cell_type": "code",
      "metadata": {
        "id": "8nP75ihA4EZg"
      },
      "source": [
        "train.to_csv('housing-train.csv', encoding='utf-8', index=False)\n",
        "val.to_csv('housing-val.csv', encoding='utf-8', index=False)\n",
        "test.to_csv('housing-test.csv', encoding='utf-8', index=False)"
      ],
      "execution_count": null,
      "outputs": []
    },
    {
      "cell_type": "code",
      "metadata": {
        "colab": {
          "base_uri": "https://localhost:8080/"
        },
        "id": "-KZKhQeq4lSl",
        "outputId": "db68ad82-b408-459f-dfc5-e0c6abd83bd7"
      },
      "source": [
        "!ls -la"
      ],
      "execution_count": null,
      "outputs": [
        {
          "output_type": "stream",
          "name": "stdout",
          "text": [
            "total 3084\n",
            "drwxr-xr-x 1 root root    4096 Oct 26 13:55 .\n",
            "drwxr-xr-x 1 root root    4096 Oct 26 13:42 ..\n",
            "drwxr-xr-x 4 root root    4096 Oct  8 13:44 .config\n",
            "-rw-r--r-- 1 root root 1435069 Oct 26 13:49 housing_pre-proc.csv\n",
            "-rw-r--r-- 1 root root  282717 Oct 26 13:55 housing-test.csv\n",
            "-rw-r--r-- 1 root root 1129914 Oct 26 13:55 housing-train.csv\n",
            "-rw-r--r-- 1 root root  282634 Oct 26 13:55 housing-val.csv\n",
            "drwxr-xr-x 1 root root    4096 Oct  8 13:45 sample_data\n"
          ]
        }
      ]
    },
    {
      "cell_type": "markdown",
      "metadata": {
        "id": "0feUfcZr4qRv"
      },
      "source": [
        "# Lab1: crear un input pipeline usando tf.data\n",
        "\n",
        "A continuacion vamos a encapsular el dataframe con tf.data. Esto nos va a permitir usar feature columns como un puente para mapear las columnas en el dataframe de pandas con los features usados para entrenar el modelo"
      ]
    },
    {
      "cell_type": "code",
      "metadata": {
        "id": "Zehs7cqg5G1B"
      },
      "source": [
        "def df_to_dataset(dataframe, shuffle=True, batch_size=32):\n",
        "  dataframe = dataframe.copy()\n",
        "  labels = dataframe.pop('median_house_value')\n",
        "  ds = tf.data.Dataset.from_tensor_slices((dict(dataframe), labels))\n",
        "  if shuffle:\n",
        "    ds = ds.shuffle(buffer_size=len(dataframe))\n",
        "  ds = ds.batch(batch_size)\n",
        "  return ds"
      ],
      "execution_count": null,
      "outputs": []
    },
    {
      "cell_type": "markdown",
      "metadata": {
        "id": "slibwDOZ58ta"
      },
      "source": [
        "A continuacipon inicializamos los dataset de entrenamiento y validacion"
      ]
    },
    {
      "cell_type": "code",
      "metadata": {
        "id": "4ZLzT0xl5p74"
      },
      "source": [
        "batch_size = 32\n",
        "train_ds = df_to_dataset(train)\n",
        "val_ds = df_to_dataset(val, shuffle=False, batch_size=batch_size)"
      ],
      "execution_count": null,
      "outputs": []
    },
    {
      "cell_type": "code",
      "metadata": {
        "colab": {
          "base_uri": "https://localhost:8080/"
        },
        "id": "35KTY19a5oTS",
        "outputId": "35d46a22-54a5-4d33-dc1e-1383cbe74839"
      },
      "source": [
        "# vamos a ver que nos trae\n",
        "\n",
        "for feature_batch, label_batch in train_ds.take(1):\n",
        "  print('todas las features', list(feature_batch.keys()))\n",
        "  print('Un batch de households', feature_batch['households'])\n",
        "  print('Un batch de ocean_proximity', feature_batch['ocean_proximity'])\n",
        "  print('A batch of targets', label_batch)"
      ],
      "execution_count": null,
      "outputs": [
        {
          "output_type": "stream",
          "name": "stdout",
          "text": [
            "todas las features ['longitude', 'latitude', 'housing_median_age', 'total_rooms', 'total_bedrooms', 'population', 'households', 'median_income', 'ocean_proximity']\n",
            "Un batch de households tf.Tensor(\n",
            "[ 322.  430.  234.  395.  342.  559.  557.  321.  707.  351. 1790.  642.\n",
            "  913.  388.  398.  960.  497.  427.  317.  266.  351.   22.  592.  267.\n",
            "  673.  343.  620.  268.  425.  719.  395.  464.], shape=(32,), dtype=float64)\n",
            "Un batch de ocean_proximity tf.Tensor(\n",
            "[b'NEAR BAY' b'<1H OCEAN' b'<1H OCEAN' b'<1H OCEAN' b'<1H OCEAN'\n",
            " b'NEAR OCEAN' b'<1H OCEAN' b'INLAND' b'<1H OCEAN' b'INLAND' b'INLAND'\n",
            " b'INLAND' b'<1H OCEAN' b'INLAND' b'INLAND' b'<1H OCEAN' b'<1H OCEAN'\n",
            " b'INLAND' b'NEAR OCEAN' b'<1H OCEAN' b'NEAR OCEAN' b'NEAR BAY'\n",
            " b'NEAR OCEAN' b'INLAND' b'INLAND' b'INLAND' b'INLAND' b'NEAR OCEAN'\n",
            " b'INLAND' b'INLAND' b'INLAND' b'INLAND'], shape=(32,), dtype=string)\n",
            "A batch of targets tf.Tensor(\n",
            "[142600. 260500. 127400. 500001. 350000. 185600. 225000.  98100. 202600.\n",
            "  70900. 145500.  65000. 218800.  92700.  73000. 500001. 286100.  68500.\n",
            "  67000. 241200. 207000. 166700.  57500.  97600. 108800.  67800.  94900.\n",
            "  58100.  99100.  83100.  75400. 151600.], shape=(32,), dtype=float64)\n"
          ]
        }
      ]
    },
    {
      "cell_type": "markdown",
      "metadata": {
        "id": "sOc3y0ST9uMC"
      },
      "source": [
        "## Columnas numericas\n",
        "La salida de una feature column se convierte en la entrada del modelo"
      ]
    },
    {
      "cell_type": "code",
      "metadata": {
        "id": "cfktHo3H_lj4"
      },
      "source": [
        "numeric_cols = ['longitude', 'latitude', 'housing_median_age', 'total_rooms',\n",
        "                'total_bedrooms', 'population', 'households', 'median_income']"
      ],
      "execution_count": null,
      "outputs": []
    },
    {
      "cell_type": "markdown",
      "metadata": {
        "id": "ag6L7rK__qPH"
      },
      "source": [
        "## Scaler function\n",
        "Es muy importante que todas las variables numericas este normalizadas antes de subirla"
      ]
    },
    {
      "cell_type": "code",
      "metadata": {
        "id": "9KRZns0q6aXm"
      },
      "source": [
        "def get_scal(feature):\n",
        "  def minmax(x):\n",
        "    mini = train[feature].min()\n",
        "    maxi = train[feature].max()\n",
        "    return (x - mini)/(maxi-mini)\n",
        "    return(minmax)"
      ],
      "execution_count": null,
      "outputs": []
    },
    {
      "cell_type": "code",
      "metadata": {
        "colab": {
          "base_uri": "https://localhost:8080/",
          "height": 231
        },
        "id": "nS8_owFw6tdC",
        "outputId": "6ce20491-b8dd-44cc-e110-b9411fc81d9d"
      },
      "source": [
        "feature_columns = []\n",
        "for header in numeric_cols:\n",
        "  scal_input_fn = get_scal(header)\n",
        "  feature_columns.append(fc.numeric_cols(header,\n",
        "                                         normalizer_fn=scal_input_fn))"
      ],
      "execution_count": null,
      "outputs": [
        {
          "output_type": "error",
          "ename": "NameError",
          "evalue": "ignored",
          "traceback": [
            "\u001b[0;31m---------------------------------------------------------------------------\u001b[0m",
            "\u001b[0;31mNameError\u001b[0m                                 Traceback (most recent call last)",
            "\u001b[0;32m<ipython-input-2-82ce46ba3645>\u001b[0m in \u001b[0;36m<module>\u001b[0;34m()\u001b[0m\n\u001b[1;32m      1\u001b[0m \u001b[0mfeature_columns\u001b[0m \u001b[0;34m=\u001b[0m \u001b[0;34m[\u001b[0m\u001b[0;34m]\u001b[0m\u001b[0;34m\u001b[0m\u001b[0;34m\u001b[0m\u001b[0m\n\u001b[0;32m----> 2\u001b[0;31m \u001b[0;32mfor\u001b[0m \u001b[0mheader\u001b[0m \u001b[0;32min\u001b[0m \u001b[0mnumeric_cols\u001b[0m\u001b[0;34m:\u001b[0m\u001b[0;34m\u001b[0m\u001b[0;34m\u001b[0m\u001b[0m\n\u001b[0m\u001b[1;32m      3\u001b[0m   \u001b[0mscal_input_fn\u001b[0m \u001b[0;34m=\u001b[0m \u001b[0mget_scal\u001b[0m\u001b[0;34m(\u001b[0m\u001b[0mheader\u001b[0m\u001b[0;34m)\u001b[0m\u001b[0;34m\u001b[0m\u001b[0;34m\u001b[0m\u001b[0m\n\u001b[1;32m      4\u001b[0m   feature_columns.append(fc.numeric_cols(header,\n\u001b[1;32m      5\u001b[0m                                          normalizer_fn=scal_input_fn))\n",
            "\u001b[0;31mNameError\u001b[0m: name 'numeric_cols' is not defined"
          ]
        }
      ]
    },
    {
      "cell_type": "code",
      "metadata": {
        "id": "01yc77He7Bpt"
      },
      "source": [
        ""
      ],
      "execution_count": null,
      "outputs": []
    }
  ]
}